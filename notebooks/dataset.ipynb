{
 "cells": [
  {
   "attachments": {},
   "cell_type": "markdown",
   "metadata": {},
   "source": [
    "# Dataset Preprocessing"
   ]
  },
  {
   "cell_type": "code",
   "execution_count": null,
   "metadata": {},
   "outputs": [],
   "source": [
    "from pandas import read_csv\n",
    "from sklearn.model_selection import train_test_split\n",
    "\n",
    "from torchvision import transforms\n",
    "from torch.utils.data import DataLoader\n",
    "\n",
    "from src.data.dataset import SkinDataset\n",
    "from src.utils.config import Config\n",
    "from src.utils.utils import merge_metadata_label, get_dataset_mean_std"
   ]
  },
  {
   "cell_type": "code",
   "execution_count": null,
   "metadata": {},
   "outputs": [],
   "source": [
    "IMAGES_PATH = Config.get_path('images')\n",
    "GROUND_TRUTH_PATH = Config.get_path('ground_truth_csv')\n",
    "METADATA_PATH = Config.get_path('metadata_csv')\n",
    "\n",
    "MERGED_DATASET_PATH = Config.get_path('merged_dataset_csv')\n",
    "CLEAN_DATASET_PATH = Config.get_path('clean_dataset_csv')\n",
    "\n",
    "TRAINING_PATH = Config.get_path('training_csv')\n",
    "TEST_PATH = Config.get_path('test_csv')"
   ]
  },
  {
   "attachments": {},
   "cell_type": "markdown",
   "metadata": {},
   "source": [
    "For each metadata sample, I add the ``label`` field. This field is taken from the corresponding row of the ground truth CSV. <br/>\n",
    "I remove ``lesion_id`` attribute from metadata attributes. <br/>"
   ]
  },
  {
   "cell_type": "code",
   "execution_count": null,
   "metadata": {},
   "outputs": [],
   "source": [
    "metadata = read_csv(METADATA_PATH, usecols=['image', 'age_approx', 'anatom_site_general', 'sex'])\n",
    "diagnoses = read_csv(GROUND_TRUTH_PATH)\n",
    "\n",
    "dataset = merge_metadata_label(metadata, diagnoses)\n",
    "dataset.to_csv(MERGED_DATASET_PATH, encoding='utf-8', index=False)\n",
    "print('Size of the Initial Dataset:', len(dataset))"
   ]
  },
  {
   "attachments": {},
   "cell_type": "markdown",
   "metadata": {},
   "source": [
    "Then, I remove all rows with any empty cells.<br/>\n",
    "Samples of classes we are not interested in are also removed."
   ]
  },
  {
   "cell_type": "code",
   "execution_count": null,
   "metadata": {},
   "outputs": [],
   "source": [
    "dataset.dropna(subset=['age_approx', 'anatom_site_general', 'sex'], inplace=True)\n",
    "dataset.index.name = 'index'\n",
    "\n",
    "for forbidden_label in ['BKL', 'AK', 'VASC']:\n",
    "    dataset.drop(dataset[dataset['label'] == forbidden_label].index, inplace = True)\n",
    "\n",
    "dataset.to_csv(CLEAN_DATASET_PATH, encoding='utf-8')\n",
    "print('Size of the Clean Dataset:', len(dataset))"
   ]
  },
  {
   "cell_type": "markdown",
   "metadata": {},
   "source": [
    "In order to train the classifier, is necessary to normalize images.<br/>\n",
    "They must have zero average, and unit standard deviation."
   ]
  },
  {
   "cell_type": "code",
   "execution_count": null,
   "metadata": {},
   "outputs": [],
   "source": [
    "dset = SkinDataset(IMAGES_PATH, CLEAN_DATASET_PATH, transforms.ToTensor())\n",
    "dataset_loader = DataLoader(dset, pin_memory=True)\n",
    "mean, std_dev = get_dataset_mean_std(dataset_loader)\n",
    "\n",
    "print('Dataset images mean:', mean)\n",
    "print('Dataset images standard deviation:', std_dev)"
   ]
  },
  {
   "attachments": {},
   "cell_type": "markdown",
   "metadata": {},
   "source": [
    "Now I split the dataset into **Training Set** [85%], and **Test Set** [15%]. <br/>\n",
    "Obviously, the split is totally random."
   ]
  },
  {
   "cell_type": "code",
   "execution_count": null,
   "metadata": {},
   "outputs": [],
   "source": [
    "tr, te = train_test_split(dataset, train_size=0.85, shuffle=True)\n",
    "tr.to_csv(TRAINING_PATH, encoding='utf-8')\n",
    "te.to_csv(TEST_PATH, encoding='utf-8')\n",
    "\n",
    "print('Training Set Size:', len(tr))\n",
    "print('Test Set Size:', len(te))"
   ]
  }
 ],
 "metadata": {
  "kernelspec": {
   "display_name": "base",
   "language": "python",
   "name": "python3"
  },
  "language_info": {
   "codemirror_mode": {
    "name": "ipython",
    "version": 3
   },
   "file_extension": ".py",
   "mimetype": "text/x-python",
   "name": "python",
   "nbconvert_exporter": "python",
   "pygments_lexer": "ipython3",
   "version": "3.9.7"
  },
  "orig_nbformat": 4
 },
 "nbformat": 4,
 "nbformat_minor": 2
}
