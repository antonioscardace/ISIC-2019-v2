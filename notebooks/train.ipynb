{
 "cells": [
  {
   "attachments": {},
   "cell_type": "markdown",
   "metadata": {},
   "source": [
    "## Model Training"
   ]
  },
  {
   "cell_type": "code",
   "execution_count": null,
   "metadata": {},
   "outputs": [],
   "source": [
    "import torch\n",
    "import numpy\n",
    "\n",
    "from torch.utils.data import DataLoader\n",
    "\n",
    "from src.data.transforms import Transforms\n",
    "from src.data.dataset import SkinDataset\n",
    "from src.model.cnn import SkinClassifierNet\n",
    "from src.model.train import ModelTraining\n",
    "from src.utils.config import Config"
   ]
  },
  {
   "cell_type": "code",
   "execution_count": null,
   "metadata": {},
   "outputs": [],
   "source": [
    "numpy.random.seed(1234)\n",
    "torch.random.manual_seed(1324)"
   ]
  },
  {
   "cell_type": "code",
   "execution_count": null,
   "metadata": {},
   "outputs": [],
   "source": [
    "DEVICE = 'cuda' if torch.cuda.is_available() else 'cpu'\n",
    "\n",
    "IMAGES_PATH = Config.get_path('images')\n",
    "TRAINING_PATH = Config.get_path('training_csv')\n",
    "MODEL_PATH = Config.get_path('model')\n",
    "\n",
    "BATCH_SIZE = Config.get_setting_int('batch_size')\n",
    "NUM_EPOCHS = Config.get_setting_int('num_epochs')\n",
    "NUM_WORKERS = Config.get_setting_int('num_workers')\n",
    "\n",
    "LEARNING_RATE = Config.get_setting_float('learning_rate')\n",
    "MOMENTUM = Config.get_setting_float('momentum')"
   ]
  },
  {
   "cell_type": "code",
   "execution_count": null,
   "metadata": {},
   "outputs": [],
   "source": [
    "load_and_augment = Transforms.get_data_and_augment()\n",
    "\n",
    "trainset = SkinDataset(\n",
    "    IMAGES_PATH,\n",
    "    TRAINING_PATH,\n",
    "    load_and_augment\n",
    ")\n",
    "train_loader = DataLoader(\n",
    "    trainset,\n",
    "    batch_size=BATCH_SIZE,\n",
    "    shuffle=True,\n",
    "    num_workers=NUM_WORKERS,\n",
    "    pin_memory=True\n",
    ")\n",
    "\n",
    "model = SkinClassifierNet()\n",
    "criterion = torch.nn.CrossEntropyLoss(weight=torch.FloatTensor([1.0, 2.0]))\n",
    "optimizer = torch.optim.SGD(model.parameters(), LEARNING_RATE, MOMENTUM)\n",
    "\n",
    "trainer = ModelTraining(DEVICE, model, MODEL_PATH)\n",
    "trainer.fit(criterion, optimizer, NUM_EPOCHS, train_loader)\n",
    "trainer.save()"
   ]
  }
 ],
 "metadata": {
  "kernelspec": {
   "display_name": "base",
   "language": "python",
   "name": "python3"
  },
  "language_info": {
   "codemirror_mode": {
    "name": "ipython",
    "version": 3
   },
   "file_extension": ".py",
   "mimetype": "text/x-python",
   "name": "python",
   "nbconvert_exporter": "python",
   "pygments_lexer": "ipython3",
   "version": "3.9.7"
  },
  "orig_nbformat": 4
 },
 "nbformat": 4,
 "nbformat_minor": 2
}
